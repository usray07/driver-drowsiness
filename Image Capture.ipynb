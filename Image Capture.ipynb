{
 "cells": [
  {
   "cell_type": "code",
   "execution_count": 1,
   "metadata": {},
   "outputs": [],
   "source": [
    "import joblib\n",
    "classifier = joblib.load('logreg.gzip')"
   ]
  },
  {
   "cell_type": "code",
   "execution_count": 3,
   "metadata": {},
   "outputs": [],
   "source": [
    "import cv2\n",
    "import numpy as np\n",
    "\n",
    "face_cascade = cv2.CascadeClassifier('haarcascade_frontalface_alt.xml')\n",
    "leye_cascade = cv2.CascadeClassifier('haarcascade_lefteye_2splits.xml')\n",
    "reye_cascade = cv2.CascadeClassifier('haarcascade_righteye_2splits.xml')\n",
    "font = cv2.FONT_HERSHEY_SIMPLEX\n",
    "\n",
    "cap = cv2.VideoCapture(0)\n",
    "\n",
    "count = 0\n",
    "a=0\n",
    "b=0\n",
    "score=0\n",
    "while True:\n",
    "    ret, img = cap.read()\n",
    "    gray = cv2.cvtColor(img, cv2.COLOR_BGR2GRAY)\n",
    "    gray = cv2.bilateralFilter(gray,5,1,1)\n",
    "    faces = face_cascade.detectMultiScale(gray, 1.3, 5)\n",
    "    for (x,y,w,h) in faces:\n",
    "        cv2.rectangle(img, (x,y), (x+w, y+h), (255, 0, 0), 2)\n",
    "        roi_gray = gray[y:y+h, x:x+w]\n",
    "        roi_color = img[y:y+h, x:x+w]\n",
    "        leyes = leye_cascade.detectMultiScale(roi_gray, 1.3, 5)\n",
    "        for (ex, ey, ew, eh) in leyes:\n",
    "            cv2.rectangle(roi_color, (ex, ey), (ex+ew, ey+eh), (0, 255, 0), 2)\n",
    "            crop_leye = roi_gray[ey:ey+eh, ex:ex+ew]\n",
    "            crop_leye = cv2.resize(crop_leye,(80, 80), interpolation = cv2.INTER_CUBIC)\n",
    "        reyes = reye_cascade.detectMultiScale(roi_gray, 1.3, 5)\n",
    "        for (ex, ey, ew, eh) in reyes:\n",
    "            cv2.rectangle(roi_color, (ex, ey), (ex+ew, ey+eh), (0, 255, 0), 2)\n",
    "            crop_reye = roi_gray[ey:ey+eh, ex:ex+ew]\n",
    "            crop_reye = cv2.resize(crop_reye,(80, 80), interpolation = cv2.INTER_CUBIC)\n",
    "    \n",
    "    \n",
    "\n",
    "    if(count%6 == 0):\n",
    "        a = classifier.predict([crop_leye.reshape(80*80)])\n",
    "        b = classifier.predict([crop_reye.reshape(80*80)])\n",
    "        if ((a==-1 or b==-1) and score<=0):\n",
    "            score=0\n",
    "        elif ((a==-1 or b==-1) and score>=3):\n",
    "            score += (a+b)/4\n",
    "        elif ((a==-1 or b==-1) and score<3):\n",
    "            score += (a+b)/3\n",
    "        else:\n",
    "            score += (a+b)/2\n",
    "\n",
    "    tex1 = 'Score: '+ str(int(score))    \n",
    "    cv2.putText(img,tex1,(10,25), font,1,(255,255,255),1,cv2.LINE_AA)\n",
    "    if(score>=5):\n",
    "        cv2.putText(img,\"Drowsy Alert!!!\",(200,55),font,1,(0,0,255),2,cv2.LINE_AA)\n",
    "    count += 1\n",
    "    cv2.imshow(\"Drowsiness Detection\", img)\n",
    "    k = cv2.waitKey(30) & 0xff\n",
    "    if k == 27:\n",
    "        break\n",
    "\n",
    "cap.release()\n",
    "cv2.destroyAllWindows()"
   ]
  },
  {
   "cell_type": "code",
   "execution_count": 3,
   "metadata": {},
   "outputs": [
    {
     "output_type": "execute_result",
     "data": {
      "text/plain": [
       "0"
      ]
     },
     "metadata": {},
     "execution_count": 3
    }
   ],
   "source": [
    "score"
   ]
  },
  {
   "cell_type": "code",
   "execution_count": null,
   "metadata": {},
   "outputs": [],
   "source": []
  }
 ],
 "metadata": {
  "kernelspec": {
   "name": "python383jvsc74a57bd07987c57931f2365761dc2a5f85e647decf73af6edff0c78918b92bfe7c5512ba",
   "display_name": "Python 3.8.3 32-bit"
  },
  "language_info": {
   "codemirror_mode": {
    "name": "ipython",
    "version": 3
   },
   "file_extension": ".py",
   "mimetype": "text/x-python",
   "name": "python",
   "nbconvert_exporter": "python",
   "pygments_lexer": "ipython3",
   "version": "3.8.3"
  },
  "metadata": {
   "interpreter": {
    "hash": "7987c57931f2365761dc2a5f85e647decf73af6edff0c78918b92bfe7c5512ba"
   }
  }
 },
 "nbformat": 4,
 "nbformat_minor": 4
}